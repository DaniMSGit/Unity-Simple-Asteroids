{
 "cells": [
  {
   "cell_type": "code",
   "execution_count": null,
   "metadata": {},
   "outputs": [
    {
     "name": "stdout",
     "output_type": "stream",
     "text": [
      "Client connected.\n",
      "ping\n",
      "Unity Sent: ping\n",
      "�PNG\r\n",
      "\u001a\n",
      "\u0000\u0000\u0000\r",
      "IHDR\u0000\u0000\u0001@\u0000\u0000\u0000�\b\u0006\u0000\u0000\u0000�\u00048�\u0000\u0000 \u0000IDATx\u0001��\t�dUu��[j����Y�\u0019�e\u0006\u0010\u0014��  \b*�D�\u0013�$P\u0012�\u001a\u00157�\\@E?��F�F\u0014�׸%j�BDP�\u0005\u0005W�\f",
      "\u0006��(�2\u001b3�L�U�����W5�3��==]�]˹�yUկ�{u���w�ُWX�*�\u0016kIZ�G�x�'i\u0012IX\u0012I�>������R�[��-��u�\u0010�\u001c",
      "��稯�I�{�Z��G��\"��@b�\"a���,��\"m��ߊ�_T�eQ���B(%� A�&�x\u00197˫J�%��m��!�V\bx<�~�*\u001b�\u0001y��Uy�\u0011�d�!�,�\u001d",
      "���I-{��Ƴ?�\r",
      "�礹8��3�$\u0007\u001f9 �����P9秿�K\u0001�и���\u0007�\u001b݃�-�{�\u001b�M��r�ٗH�_,��\u001d",
      "/h�$\u0007�r`����g�Y�D��%���p�H;\u0003�\u0000�6\b|I�T��&\u0019��\u0017��(�k5A̒hd���ǷHu�*��'��d<:\u0003�=Gђ�e�\u0003[䔓ߋ��sz>\"oZ�\u0002uU�U?ȫ5C�\u0010�w\u0004�$�0\f",
      "%Ib�)�ț���r��\u0007q\u0001������1�\f",
      "�\u000b",
      "�$�\u0007!�c⇽��\u0003mxdKR�\b}���Fep$E߇r֋a�}�3��!����v\u001b�~�r7!\u0010�c�Ŏ\u000b",
      "L�\u0002?~���̿�\\��\u0002\u0019*\u001c",
      "$��E��`��\u001aX%^\u0018��.��[Kr��\u0017�=�2U\u0015�כ�\u0010�p\"�\u0017�:5�lz�N��6��\"���%q⬽)��Z-�����Ĉ���{���o\u001f�ʶ�7�0���\u001e",
      "0�6�\u0013-v5�\u0015�`</�)���\u0013\f",
      "|��\t\\\u001f�\u000f�\u0005�!�F�Zl\u001a5�;^\r",
      "w�\u0005�?%p�X���\u001e",
      "\u000f���{�\u0006� \u0011�*@<\u000f%\bfL}��7_p��k �O� +�\u0010'R*\u0015��˝��U���\u001fi��'u{��\r",
      "�h\n",
      "P���&G�>P�߰��\u0018��]\r",
      "�}�\u0005���`T*S�\f",
      "�W~Z\u0006�Q����x~�ԢQ\u0018�r��\u0005_���Y��+��:ѕع\u0007�u�ݹ�����9\b�{�f=<���偂\b\u001e",
      "��W�v�Y�\u0000�{�݀\u0006���>\r",
      "2&�\u00123���c�\u0005\u0005>�\u0002)D\u0013�����������K\r",
      "\u0001z�\u0012V%\bJ\u0000�Hs���WqX�\u0000K;�OV([�W$N|�)�Ӎ���w]\\&\u001a\u001e",
      "K\u0014\u0004\u0010\u0010Y�2\\g��̂5\n",
      "�\t�\u000b",
      "�C\u0005�\u001d",
      "R�DW��}-J\u0000�\u0017\u0014���B �\n",
      "ꌫ�����.x���������Dyx\n"
     ]
    }
   ],
   "source": [
    "import socket\n",
    "import json\n",
    "import matplotlib.pyplot as plt\n",
    "\n",
    "\n",
    "host = 'localhost' \n",
    "port = 50000\n",
    "backlog = 5 \n",
    "size = 50000\n",
    "s = socket.socket(socket.AF_INET, socket.SOCK_STREAM) \n",
    "s.bind((host,port)) \n",
    "s.listen(backlog) \n",
    "\n",
    "while 1:\n",
    "    client, address = s.accept() \n",
    "    print (\"Client connected.\")\n",
    "    while 1:\n",
    "        data = client.recv(size)\n",
    "        result = data.decode(\"utf-8\") ;\n",
    "        print(result)\n",
    "        if result == 'ping':\n",
    "            print (\"Unity Sent: \" + result )\n",
    "            answer = \"pong\\n\"\n",
    "            client.send(str.encode(answer))\n",
    "        else:\n",
    "            #print (\"Unity Sent Something Else: \" + str(data))\n",
    "            client.close()\n",
    "            break\n"
   ]
  },
  {
   "cell_type": "code",
   "execution_count": null,
   "metadata": {
    "collapsed": true
   },
   "outputs": [],
   "source": []
  },
  {
   "cell_type": "code",
   "execution_count": null,
   "metadata": {
    "collapsed": true
   },
   "outputs": [],
   "source": []
  },
  {
   "cell_type": "code",
   "execution_count": null,
   "metadata": {
    "collapsed": true
   },
   "outputs": [],
   "source": []
  },
  {
   "cell_type": "code",
   "execution_count": null,
   "metadata": {
    "collapsed": true
   },
   "outputs": [],
   "source": []
  }
 ],
 "metadata": {
  "kernelspec": {
   "display_name": "Python 3",
   "language": "python",
   "name": "python3"
  },
  "language_info": {
   "codemirror_mode": {
    "name": "ipython",
    "version": 3
   },
   "file_extension": ".py",
   "mimetype": "text/x-python",
   "name": "python",
   "nbconvert_exporter": "python",
   "pygments_lexer": "ipython3",
   "version": "3.6.3"
  }
 },
 "nbformat": 4,
 "nbformat_minor": 2
}
