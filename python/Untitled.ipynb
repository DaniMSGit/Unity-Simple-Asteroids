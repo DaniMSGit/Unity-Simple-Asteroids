{
 "cells": [
  {
   "cell_type": "code",
   "execution_count": null,
   "metadata": {},
   "outputs": [],
   "source": [
    "import socket\n",
    "import sys\n",
    "from base64 import decodestring\n",
    "import numpy as np\n",
    "import base64\n",
    "from PIL import Image\n",
    "\n",
    "host = 'localhost' \n",
    "port = 50004\n",
    "s = socket.socket(socket.AF_INET, socket.SOCK_STREAM) \n",
    "\n",
    "try:\n",
    "    s.bind((host,port))\n",
    "except socket.error as msg:\n",
    "    print ('Bind failed. Error Code : ' + str(msg[0]) + ' Message ' + msg[1])\n",
    "    sys.exit()\n",
    "    \n",
    "print ('Socket bind complete')\n",
    "\n",
    "s.listen(10) \n",
    "print ('Socket now listening')\n",
    "conn, addr = s.accept()\n",
    "print ('Connected with ' + addr[0] + ':' + str(addr[1])) \n",
    "#now keep talking with the client\n",
    "\n",
    "while 1:\n",
    "    length=conn.recv(1024)\n",
    "    length=int(length)\n",
    "    k=int(length/1024)\n",
    "    j=length%1024\n",
    "    \n",
    "    maindata=''\n",
    "    i=0\n",
    "    while i<k:\n",
    "        i=i+1\n",
    "        data = conn.recv(1024)\n",
    "        maindata=maindata+data\n",
    "\n",
    "    if j!=0:    \n",
    "        data=conn.recv(j)\n",
    "        maindata=maindata+data\n",
    "        \n",
    "    a=maindata.decode('base64')\n",
    "    print(a)\n",
    "    nparr = np.fromstring(a, np.uint8)\n",
    "    img = Image.fromarray(nparr)\n",
    "    img.show()\n",
    "    conn.sendall(\"4\")\n",
    "s.close()  "
   ]
  },
  {
   "cell_type": "code",
   "execution_count": null,
   "metadata": {
    "collapsed": true
   },
   "outputs": [],
   "source": [
    "s.close()"
   ]
  },
  {
   "cell_type": "code",
   "execution_count": null,
   "metadata": {
    "collapsed": true
   },
   "outputs": [],
   "source": []
  },
  {
   "cell_type": "code",
   "execution_count": null,
   "metadata": {
    "collapsed": true
   },
   "outputs": [],
   "source": []
  },
  {
   "cell_type": "code",
   "execution_count": null,
   "metadata": {
    "collapsed": true
   },
   "outputs": [],
   "source": []
  },
  {
   "cell_type": "code",
   "execution_count": null,
   "metadata": {
    "collapsed": true
   },
   "outputs": [],
   "source": []
  },
  {
   "cell_type": "code",
   "execution_count": null,
   "metadata": {
    "collapsed": true
   },
   "outputs": [],
   "source": []
  }
 ],
 "metadata": {
  "kernelspec": {
   "display_name": "Python 3",
   "language": "python",
   "name": "python3"
  },
  "language_info": {
   "codemirror_mode": {
    "name": "ipython",
    "version": 3
   },
   "file_extension": ".py",
   "mimetype": "text/x-python",
   "name": "python",
   "nbconvert_exporter": "python",
   "pygments_lexer": "ipython3",
   "version": "3.6.3"
  }
 },
 "nbformat": 4,
 "nbformat_minor": 2
}
