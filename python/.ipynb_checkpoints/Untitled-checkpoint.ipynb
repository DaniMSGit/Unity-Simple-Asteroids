{
 "cells": [
  {
   "cell_type": "code",
   "execution_count": null,
   "metadata": {
    "collapsed": true
   },
   "outputs": [],
   "source": [
    "import socket\n",
    "import matplotlib.pyplot as plt\n",
    "import os\n",
    "import io\n",
    "import os.path\n",
    "from PIL import Image\n",
    "import numpy as np\n",
    "\n",
    "\n",
    "host = 'localhost' \n",
    "port = 50002\n",
    "backlog = 5 \n",
    "size = 50000\n",
    "s = socket.socket(socket.AF_INET, socket.SOCK_STREAM) \n",
    "s.bind((host,port)) \n",
    "s.listen(backlog) \n",
    "\n",
    "while 1:\n",
    "    client, address = s.accept() \n",
    "    print (\"Client connected.\")\n",
    "    while 1:\n",
    "        data = client.recv(size)\n",
    "        try:\n",
    "            result = data.decode(\"utf-8\") ;\n",
    "        except:\n",
    "            print(\"Imposible decodificar\")\n",
    "        if result == 'ping':\n",
    "            print (\"Unity Sent: \" + result )\n",
    "            result = 'none'\n",
    "            answer = \"pong\\n\"\n",
    "            client.send(str.encode(answer))\n",
    "        else:\n",
    "            #print (\"Unity Sent Something Else: \" + str(data))\n",
    "            #file = open(\"i3.png\",\"w+b\")\n",
    "            #file.write(data)\n",
    "            #file.close()\n",
    "            img = Image.open(io.BytesIO(data))\n",
    "            arr = np.asarray(img)\n",
    "            i = Image.fromarray(arr)\n",
    "            img.show()\n",
    "            \n",
    "            break"
   ]
  },
  {
   "cell_type": "code",
   "execution_count": null,
   "metadata": {
    "collapsed": true
   },
   "outputs": [],
   "source": [
    "client.close()"
   ]
  },
  {
   "cell_type": "code",
   "execution_count": null,
   "metadata": {
    "collapsed": true
   },
   "outputs": [],
   "source": []
  },
  {
   "cell_type": "code",
   "execution_count": null,
   "metadata": {
    "collapsed": true
   },
   "outputs": [],
   "source": []
  },
  {
   "cell_type": "code",
   "execution_count": null,
   "metadata": {
    "collapsed": true
   },
   "outputs": [],
   "source": []
  },
  {
   "cell_type": "code",
   "execution_count": null,
   "metadata": {
    "collapsed": true
   },
   "outputs": [],
   "source": []
  },
  {
   "cell_type": "code",
   "execution_count": null,
   "metadata": {
    "collapsed": true
   },
   "outputs": [],
   "source": []
  }
 ],
 "metadata": {
  "kernelspec": {
   "display_name": "Python 3",
   "language": "python",
   "name": "python3"
  },
  "language_info": {
   "codemirror_mode": {
    "name": "ipython",
    "version": 3
   },
   "file_extension": ".py",
   "mimetype": "text/x-python",
   "name": "python",
   "nbconvert_exporter": "python",
   "pygments_lexer": "ipython3",
   "version": "3.6.3"
  }
 },
 "nbformat": 4,
 "nbformat_minor": 2
}
